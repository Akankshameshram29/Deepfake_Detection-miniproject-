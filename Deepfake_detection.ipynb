{
  "cells": [
    {
      "cell_type": "code",
      "execution_count": 15,
      "id": "keCvSMBnCA35",
      "metadata": {
        "id": "keCvSMBnCA35"
      },
      "outputs": [],
      "source": [
        "import os\n",
        "import numpy as np\n",
        "import matplotlib.pyplot as plt\n",
        "import tensorflow as tf\n",
        "import random\n",
        "import glob\n",
        "import numpy as np\n",
        "from sklearn.model_selection import train_test_split\n",
        "from tensorflow.keras.preprocessing.image import ImageDataGenerator\n",
        "from tensorflow.keras.models import Sequential\n",
        "from tensorflow.keras.layers import Conv2D, MaxPooling2D, Flatten, Dense, Dropout\n",
        "from tensorflow.keras.optimizers import Adam\n",
        "from sklearn.metrics import classification_report, confusion_matrix"
      ]
    },
    {
      "cell_type": "code",
      "execution_count": 3,
      "id": "b7d36378",
      "metadata": {},
      "outputs": [
        {
          "name": "stdout",
          "output_type": "stream",
          "text": [
            "Merging from: C:\\Users\\akanksha meshram\\Downloads\\Deepfake\\real_and_fake_face_detection\n",
            "Merging from: C:\\Users\\akanksha meshram\\Downloads\\Deepfake\\cropped_images\n",
            "Merging from: C:\\Users\\akanksha meshram\\Downloads\\Deepfake\\1000_videos\n",
            "\n",
            "✅ All datasets merged into: C:\\Users\\akanksha meshram\\Downloads\\Deepfake\\merged_dataset\n"
          ]
        }
      ],
      "source": [
        "\n",
        "import shutil\n",
        "\n",
        "def collect_and_merge(source_root, dest_root):\n",
        "    real_dest = os.path.join(dest_root, \"real\")\n",
        "    fake_dest = os.path.join(dest_root, \"fake\")\n",
        "    os.makedirs(real_dest, exist_ok=True)\n",
        "    os.makedirs(fake_dest, exist_ok=True)\n",
        "\n",
        "    for dirpath, dirnames, filenames in os.walk(source_root):\n",
        "        if dirpath.endswith(\"real\"):\n",
        "            for f in filenames:\n",
        "                src = os.path.join(dirpath, f)\n",
        "                shutil.copy2(src, os.path.join(real_dest, f))\n",
        "        elif dirpath.endswith(\"fake\"):\n",
        "            for f in filenames:\n",
        "                src = os.path.join(dirpath, f)\n",
        "                shutil.copy2(src, os.path.join(fake_dest, f))\n",
        "\n",
        "# === Paths ===\n",
        "dataset_folders = [\n",
        "    r\"C:\\Users\\akanksha meshram\\Downloads\\Deepfake\\real_and_fake_face_detection\",\n",
        "    r\"C:\\Users\\akanksha meshram\\Downloads\\Deepfake\\cropped_images\",\n",
        "    r\"C:\\Users\\akanksha meshram\\Downloads\\Deepfake\\1000_videos\"\n",
        "]\n",
        "\n",
        "# Output folder\n",
        "merged_dataset_path = r\"C:\\Users\\akanksha meshram\\Downloads\\Deepfake\\merged_dataset\"\n",
        "\n",
        "# === Merge ===\n",
        "for folder in dataset_folders:\n",
        "    if os.path.exists(folder):\n",
        "        print(f\"Merging from: {folder}\")\n",
        "        collect_and_merge(folder, merged_dataset_path)\n",
        "    else:\n",
        "        print(f\"Skipping missing folder: {folder}\")\n",
        "\n",
        "print(f\"\\n✅ All datasets merged into: {merged_dataset_path}\")\n"
      ]
    },
    {
      "cell_type": "code",
      "execution_count": 4,
      "id": "dadf6d59",
      "metadata": {},
      "outputs": [
        {
          "name": "stdout",
          "output_type": "stream",
          "text": [
            "🟢 Real images: 10167\n",
            "🔴 Fake images: 10348\n",
            "✅ Dataset is well-balanced.\n"
          ]
        }
      ],
      "source": [
        "\n",
        "\n",
        "# Path to merged dataset\n",
        "merged_path = r\"C:\\Users\\akanksha meshram\\Downloads\\Deepfake\\merged_dataset\"\n",
        "\n",
        "real_path = os.path.join(merged_path, \"real\")\n",
        "fake_path = os.path.join(merged_path, \"fake\")\n",
        "\n",
        "real_count = len([f for f in os.listdir(real_path) if f.lower().endswith(('.png', '.jpg', '.jpeg'))])\n",
        "fake_count = len([f for f in os.listdir(fake_path) if f.lower().endswith(('.png', '.jpg', '.jpeg'))])\n",
        "\n",
        "print(f\"🟢 Real images: {real_count}\")\n",
        "print(f\"🔴 Fake images: {fake_count}\")\n",
        "\n",
        "# Optional balance check\n",
        "if abs(real_count - fake_count) / max(real_count, fake_count) < 0.1:\n",
        "    print(\"✅ Dataset is well-balanced.\")\n",
        "else:\n",
        "    print(\"⚠️ Dataset is imbalanced.\")\n"
      ]
    },
    {
      "cell_type": "code",
      "execution_count": 5,
      "id": "5e1c434a",
      "metadata": {},
      "outputs": [
        {
          "name": "stdout",
          "output_type": "stream",
          "text": [
            "✅ Created 300 filtered real images in: C:\\Users\\akanksha meshram\\Downloads\\Deepfake\\merged_dataset\\real_filtered\n"
          ]
        }
      ],
      "source": [
        "import os\n",
        "import cv2\n",
        "import random\n",
        "\n",
        "input_real_folder = r\"C:\\Users\\akanksha meshram\\Downloads\\Deepfake\\merged_dataset\\real\"\n",
        "output_filtered_real = r\"C:\\Users\\akanksha meshram\\Downloads\\Deepfake\\merged_dataset\\real_filtered\"\n",
        "os.makedirs(output_filtered_real, exist_ok=True)\n",
        "\n",
        "# Choose N random images to apply filters to\n",
        "num_to_filter = 300  # adjust as needed\n",
        "real_images = [f for f in os.listdir(input_real_folder) if f.endswith(('.jpg', '.png'))]\n",
        "selected = random.sample(real_images, min(num_to_filter, len(real_images)))\n",
        "\n",
        "for i, filename in enumerate(selected):\n",
        "    img_path = os.path.join(input_real_folder, filename)\n",
        "    img = cv2.imread(img_path)\n",
        "\n",
        "    # Apply pseudo-filter effects (feel free to modify)\n",
        "    filtered = cv2.bilateralFilter(img, 9, 75, 75)  # smoothing\n",
        "    filtered = cv2.convertScaleAbs(filtered, alpha=1.2, beta=20)  # brightness boost\n",
        "\n",
        "    save_name = f\"filtered_{i}_{filename}\"\n",
        "    save_path = os.path.join(output_filtered_real, save_name)\n",
        "    cv2.imwrite(save_path, filtered)\n",
        "\n",
        "print(f\"✅ Created {len(selected)} filtered real images in:\", output_filtered_real)\n"
      ]
    },
    {
      "cell_type": "code",
      "execution_count": 6,
      "id": "f96abf88",
      "metadata": {},
      "outputs": [
        {
          "name": "stdout",
          "output_type": "stream",
          "text": [
            "✅ Found 10167 real images\n",
            "✅ Found 10348 fake images\n"
          ]
        }
      ],
      "source": [
        "import os\n",
        "import glob\n",
        "\n",
        "# Correct paths — point to actual folders\n",
        "real_path = r\"C:\\Users\\akanksha meshram\\Downloads\\Deepfake\\merged_dataset\\real\"\n",
        "fake_path = r\"C:\\Users\\akanksha meshram\\Downloads\\Deepfake\\merged_dataset\\fake\"\n",
        "\n",
        "# Match all image types\n",
        "real_images = glob.glob(os.path.join(real_path, \"*.jpg\")) + \\\n",
        "              glob.glob(os.path.join(real_path, \"*.jpeg\")) + \\\n",
        "              glob.glob(os.path.join(real_path, \"*.png\"))\n",
        "\n",
        "fake_images = glob.glob(os.path.join(fake_path, \"*.jpg\")) + \\\n",
        "              glob.glob(os.path.join(fake_path, \"*.jpeg\")) + \\\n",
        "              glob.glob(os.path.join(fake_path, \"*.png\"))\n",
        "\n",
        "print(f\"✅ Found {len(real_images)} real images\")\n",
        "print(f\"✅ Found {len(fake_images)} fake images\")\n"
      ]
    },
    {
      "cell_type": "code",
      "execution_count": 8,
      "id": "acf40451",
      "metadata": {},
      "outputs": [],
      "source": [
        "IMG_SIZE = 128\n",
        "X = []\n",
        "\n",
        "# Load and preprocess images\n",
        "for img_path in real_images + fake_images:\n",
        "    img = cv2.imread(img_path)\n",
        "    img = cv2.resize(img, (IMG_SIZE, IMG_SIZE))\n",
        "    img = cv2.cvtColor(img, cv2.COLOR_BGR2RGB)\n",
        "    img = img / 255.0  # Normalize\n",
        "    X.append(img)\n",
        "\n",
        "X = np.array(X, dtype='float32')\n",
        "y = np.array([0]*len(real_images) + [1]*len(fake_images))  # 0 = real, 1 = fake"
      ]
    },
    {
      "cell_type": "code",
      "execution_count": 9,
      "id": "b407850d",
      "metadata": {},
      "outputs": [],
      "source": [
        "# Split the dataset\n",
        "X_train, X_test, y_train, y_test = train_test_split(\n",
        "    X, y, test_size=0.2, random_state=42, stratify=y\n",
        ")"
      ]
    },
    {
      "cell_type": "code",
      "execution_count": 10,
      "id": "1f60778a",
      "metadata": {},
      "outputs": [],
      "source": [
        "# Load MobileNetV2 (pretrained)\n",
        "from tensorflow.keras.applications import MobileNetV2\n",
        "from tensorflow.keras.layers import GlobalAveragePooling2D, Dense\n",
        "from tensorflow.keras.models import Model\n",
        "from tensorflow.keras.optimizers import Adam\n",
        "\n",
        "base_model = MobileNetV2(weights='imagenet', include_top=False, input_shape=(IMG_SIZE, IMG_SIZE, 3))\n",
        "for layer in base_model.layers:\n",
        "    layer.trainable = False  # Freeze base layers\n",
        "\n",
        "x = base_model.output\n",
        "x = GlobalAveragePooling2D()(x)\n",
        "x = Dense(64, activation='relu')(x)\n",
        "output = Dense(1, activation='sigmoid')(x)\n",
        "\n",
        "model = Model(inputs=base_model.input, outputs=output)\n",
        "model.compile(optimizer=Adam(learning_rate=0.0001), loss='binary_crossentropy', metrics=['accuracy'])\n"
      ]
    },
    {
      "cell_type": "code",
      "execution_count": 11,
      "id": "c4aeb933",
      "metadata": {},
      "outputs": [
        {
          "name": "stdout",
          "output_type": "stream",
          "text": [
            "Epoch 1/10\n",
            "\u001b[1m513/513\u001b[0m \u001b[32m━━━━━━━━━━━━━━━━━━━━\u001b[0m\u001b[37m\u001b[0m \u001b[1m192s\u001b[0m 362ms/step - accuracy: 0.5890 - loss: 0.6749 - val_accuracy: 0.7243 - val_loss: 0.5408\n",
            "Epoch 2/10\n",
            "\u001b[1m513/513\u001b[0m \u001b[32m━━━━━━━━━━━━━━━━━━━━\u001b[0m\u001b[37m\u001b[0m \u001b[1m176s\u001b[0m 344ms/step - accuracy: 0.7416 - loss: 0.5247 - val_accuracy: 0.7395 - val_loss: 0.5126\n",
            "Epoch 3/10\n",
            "\u001b[1m513/513\u001b[0m \u001b[32m━━━━━━━━━━━━━━━━━━━━\u001b[0m\u001b[37m\u001b[0m \u001b[1m185s\u001b[0m 360ms/step - accuracy: 0.7648 - loss: 0.4867 - val_accuracy: 0.7845 - val_loss: 0.4680\n",
            "Epoch 4/10\n",
            "\u001b[1m513/513\u001b[0m \u001b[32m━━━━━━━━━━━━━━━━━━━━\u001b[0m\u001b[37m\u001b[0m \u001b[1m206s\u001b[0m 401ms/step - accuracy: 0.7930 - loss: 0.4508 - val_accuracy: 0.7887 - val_loss: 0.4490\n",
            "Epoch 5/10\n",
            "\u001b[1m513/513\u001b[0m \u001b[32m━━━━━━━━━━━━━━━━━━━━\u001b[0m\u001b[37m\u001b[0m \u001b[1m207s\u001b[0m 403ms/step - accuracy: 0.8115 - loss: 0.4201 - val_accuracy: 0.7962 - val_loss: 0.4323\n",
            "Epoch 6/10\n",
            "\u001b[1m513/513\u001b[0m \u001b[32m━━━━━━━━━━━━━━━━━━━━\u001b[0m\u001b[37m\u001b[0m \u001b[1m205s\u001b[0m 399ms/step - accuracy: 0.8299 - loss: 0.3928 - val_accuracy: 0.8036 - val_loss: 0.4178\n",
            "Epoch 7/10\n",
            "\u001b[1m513/513\u001b[0m \u001b[32m━━━━━━━━━━━━━━━━━━━━\u001b[0m\u001b[37m\u001b[0m \u001b[1m200s\u001b[0m 390ms/step - accuracy: 0.8363 - loss: 0.3761 - val_accuracy: 0.8123 - val_loss: 0.4049\n",
            "Epoch 8/10\n",
            "\u001b[1m513/513\u001b[0m \u001b[32m━━━━━━━━━━━━━━━━━━━━\u001b[0m\u001b[37m\u001b[0m \u001b[1m208s\u001b[0m 406ms/step - accuracy: 0.8514 - loss: 0.3566 - val_accuracy: 0.8123 - val_loss: 0.3957\n",
            "Epoch 9/10\n",
            "\u001b[1m513/513\u001b[0m \u001b[32m━━━━━━━━━━━━━━━━━━━━\u001b[0m\u001b[37m\u001b[0m \u001b[1m197s\u001b[0m 384ms/step - accuracy: 0.8572 - loss: 0.3460 - val_accuracy: 0.8177 - val_loss: 0.3882\n",
            "Epoch 10/10\n",
            "\u001b[1m513/513\u001b[0m \u001b[32m━━━━━━━━━━━━━━━━━━━━\u001b[0m\u001b[37m\u001b[0m \u001b[1m194s\u001b[0m 379ms/step - accuracy: 0.8682 - loss: 0.3266 - val_accuracy: 0.8257 - val_loss: 0.3781\n"
          ]
        },
        {
          "data": {
            "text/plain": [
              "<keras.src.callbacks.history.History at 0x1e4b29ad5a0>"
            ]
          },
          "execution_count": 11,
          "metadata": {},
          "output_type": "execute_result"
        }
      ],
      "source": [
        "# Train\n",
        "model.fit(X_train, y_train, epochs=10, batch_size=32, validation_data=(X_test, y_test))"
      ]
    },
    {
      "cell_type": "code",
      "execution_count": 12,
      "id": "5037bb1d",
      "metadata": {},
      "outputs": [
        {
          "name": "stdout",
          "output_type": "stream",
          "text": [
            "Epoch 1/10\n",
            "\u001b[1m513/513\u001b[0m \u001b[32m━━━━━━━━━━━━━━━━━━━━\u001b[0m\u001b[37m\u001b[0m \u001b[1m212s\u001b[0m 411ms/step - accuracy: 0.8750 - loss: 0.3133 - val_accuracy: 0.8265 - val_loss: 0.3728\n",
            "Epoch 2/10\n",
            "\u001b[1m513/513\u001b[0m \u001b[32m━━━━━━━━━━━━━━━━━━━━\u001b[0m\u001b[37m\u001b[0m \u001b[1m212s\u001b[0m 413ms/step - accuracy: 0.8778 - loss: 0.3003 - val_accuracy: 0.8309 - val_loss: 0.3693\n",
            "Epoch 3/10\n",
            "\u001b[1m513/513\u001b[0m \u001b[32m━━━━━━━━━━━━━━━━━━━━\u001b[0m\u001b[37m\u001b[0m \u001b[1m206s\u001b[0m 402ms/step - accuracy: 0.8934 - loss: 0.2846 - val_accuracy: 0.8267 - val_loss: 0.3675\n",
            "Epoch 4/10\n",
            "\u001b[1m513/513\u001b[0m \u001b[32m━━━━━━━━━━━━━━━━━━━━\u001b[0m\u001b[37m\u001b[0m \u001b[1m204s\u001b[0m 398ms/step - accuracy: 0.8946 - loss: 0.2802 - val_accuracy: 0.8457 - val_loss: 0.3477\n",
            "Epoch 5/10\n",
            "\u001b[1m513/513\u001b[0m \u001b[32m━━━━━━━━━━━━━━━━━━━━\u001b[0m\u001b[37m\u001b[0m \u001b[1m203s\u001b[0m 395ms/step - accuracy: 0.9023 - loss: 0.2599 - val_accuracy: 0.8494 - val_loss: 0.3393\n",
            "Epoch 6/10\n",
            "\u001b[1m513/513\u001b[0m \u001b[32m━━━━━━━━━━━━━━━━━━━━\u001b[0m\u001b[37m\u001b[0m \u001b[1m211s\u001b[0m 411ms/step - accuracy: 0.9051 - loss: 0.2582 - val_accuracy: 0.8533 - val_loss: 0.3357\n",
            "Epoch 7/10\n",
            "\u001b[1m513/513\u001b[0m \u001b[32m━━━━━━━━━━━━━━━━━━━━\u001b[0m\u001b[37m\u001b[0m \u001b[1m204s\u001b[0m 398ms/step - accuracy: 0.9089 - loss: 0.2477 - val_accuracy: 0.8574 - val_loss: 0.3311\n",
            "Epoch 8/10\n",
            "\u001b[1m513/513\u001b[0m \u001b[32m━━━━━━━━━━━━━━━━━━━━\u001b[0m\u001b[37m\u001b[0m \u001b[1m207s\u001b[0m 403ms/step - accuracy: 0.9147 - loss: 0.2364 - val_accuracy: 0.8552 - val_loss: 0.3267\n",
            "Epoch 9/10\n",
            "\u001b[1m513/513\u001b[0m \u001b[32m━━━━━━━━━━━━━━━━━━━━\u001b[0m\u001b[37m\u001b[0m \u001b[1m205s\u001b[0m 399ms/step - accuracy: 0.9222 - loss: 0.2263 - val_accuracy: 0.8603 - val_loss: 0.3216\n",
            "Epoch 10/10\n",
            "\u001b[1m513/513\u001b[0m \u001b[32m━━━━━━━━━━━━━━━━━━━━\u001b[0m\u001b[37m\u001b[0m \u001b[1m203s\u001b[0m 396ms/step - accuracy: 0.9252 - loss: 0.2199 - val_accuracy: 0.8650 - val_loss: 0.3180\n"
          ]
        }
      ],
      "source": [
        "history = model.fit(\n",
        "    X_train, y_train,\n",
        "    epochs=10,\n",
        "    batch_size=32,\n",
        "    validation_data=(X_test, y_test)\n",
        ")\n"
      ]
    },
    {
      "cell_type": "code",
      "execution_count": 13,
      "id": "a136da13",
      "metadata": {},
      "outputs": [
        {
          "data": {
            "image/png": "[encoded data removed]",
            "text/plain": [
              "<Figure size 640x480 with 1 Axes>"
            ]
          },
          "metadata": {},
          "output_type": "display_data"
        }
      ],
      "source": [
        "import matplotlib.pyplot as plt\n",
        "\n",
        "plt.plot(history.history['accuracy'], label='Train Accuracy')\n",
        "plt.plot(history.history['val_accuracy'], label='Validation Accuracy')\n",
        "plt.title(\"Model Accuracy Over Epochs\")\n",
        "plt.xlabel(\"Epoch\")\n",
        "plt.ylabel(\"Accuracy\")\n",
        "plt.legend()\n",
        "plt.grid(True)\n",
        "plt.show()\n"
      ]
    },
    {
      "cell_type": "code",
      "execution_count": null,
      "id": "20d78062",
      "metadata": {},
      "outputs": [
        {
          "name": "stderr",
          "output_type": "stream",
          "text": [
            "WARNING:absl:You are saving your model as an HDF5 file via `model.save()` or `keras.saving.save_model(model)`. This file format is considered legacy. We recommend using instead the native Keras format, e.g. `model.save('my_model.keras')` or `keras.saving.save_model(model, 'my_model.keras')`. \n"
          ]
        }
      ],
      "source": [
        "model.save(\"my_deepfake_detector.h5\")"
      ]
    }
  ],
  "metadata": {
    "colab": {
      "provenance": []
    },
    "kernelspec": {
      "display_name": "tf_env",
      "language": "python",
      "name": "python3"
    },
    "language_info": {
      "codemirror_mode": {
        "name": "ipython",
        "version": 3
      },
      "file_extension": ".py",
      "mimetype": "text/x-python",
      "name": "python",
      "nbconvert_exporter": "python",
      "pygments_lexer": "ipython3",
      "version": "3.10.16"
    }
  },
  "nbformat": 4,
  "nbformat_minor": 5
}
